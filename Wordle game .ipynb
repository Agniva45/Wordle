{
 "cells": [
  {
   "cell_type": "code",
   "execution_count": null,
   "id": "f3a285b3",
   "metadata": {},
   "outputs": [
    {
     "name": "stdout",
     "output_type": "stream",
     "text": [
      "audio\n",
      " 🟩🟨⬜⬜⬜\n",
      "acute\n",
      " 🟩🟨🟩⬜⬜\n",
      "aluce\n",
      " 🟩⬜🟩🟩⬜\n",
      "aruch\n",
      " 🟩⬜🟩🟩⬜\n",
      "apucb\n",
      " 🟩⬜🟩🟩⬜\n"
     ]
    }
   ],
   "source": [
    "import  pandas as pd\n",
    "df=pd.read_csv(\"C:\\data\\word.csv\")\n",
    "import random\n",
    "t = random.randrange(0,5756)\n",
    "arr=[]\n",
    "row = df.loc[t]\n",
    "for i in row:\n",
    "    word = i\n",
    "    for j in word:\n",
    "        arr.append(j)\n",
    "for a in range(6):\n",
    "    arr1=[]\n",
    "    word=input()\n",
    "    for j in word:\n",
    "        arr1.append(j)\n",
    "    i=0\n",
    "    str=\" \"\n",
    "    while(i<5):\n",
    "        if(arr1[i] in arr and arr[i]==arr1[i]):\n",
    "            str=str+\"🟩\"\n",
    "        elif(arr1[i] in arr and arr[i]!=arr1[i]):\n",
    "            str=str+\"🟨\"\n",
    "        else:\n",
    "            str=str+\"⬜\"\n",
    "        i=i+1\n",
    "    print(str)\n",
    "    count=0\n",
    "    for i in range(len(str)):\n",
    "        if(str[i]=='🟩'):\n",
    "            count=count+1\n",
    "    if(count==5):\n",
    "        print(\"correct word\")\n",
    "    if(a==5):\n",
    "        print(\"Game over\")\n",
    "  "
   ]
  },
  {
   "cell_type": "code",
   "execution_count": null,
   "id": "55ece955",
   "metadata": {},
   "outputs": [],
   "source": []
  },
  {
   "cell_type": "code",
   "execution_count": null,
   "id": "45720756",
   "metadata": {},
   "outputs": [],
   "source": []
  }
 ],
 "metadata": {
  "kernelspec": {
   "display_name": "Python 3 (ipykernel)",
   "language": "python",
   "name": "python3"
  },
  "language_info": {
   "codemirror_mode": {
    "name": "ipython",
    "version": 3
   },
   "file_extension": ".py",
   "mimetype": "text/x-python",
   "name": "python",
   "nbconvert_exporter": "python",
   "pygments_lexer": "ipython3",
   "version": "3.9.12"
  }
 },
 "nbformat": 4,
 "nbformat_minor": 5
}
